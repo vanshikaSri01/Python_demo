{
 "cells": [
  {
   "cell_type": "code",
   "execution_count": 2,
   "id": "46c4e70a-165c-49d9-ba92-040e7d446058",
   "metadata": {},
   "outputs": [
    {
     "data": {
      "text/plain": [
       "{'rows': 150,\n",
       " 'columns': 5,\n",
       " 'column_names': ['sepal_length',\n",
       "  'sepal_width',\n",
       "  'petal_length',\n",
       "  'petal_width',\n",
       "  'species'],\n",
       " 'data_types': {'sepal_length': dtype('float64'),\n",
       "  'sepal_width': dtype('float64'),\n",
       "  'petal_length': dtype('float64'),\n",
       "  'petal_width': dtype('float64'),\n",
       "  'species': dtype('O')},\n",
       " 'null_counts': {'sepal_length': 0,\n",
       "  'sepal_width': 0,\n",
       "  'petal_length': 0,\n",
       "  'petal_width': 0,\n",
       "  'species': 0}}"
      ]
     },
     "execution_count": 2,
     "metadata": {},
     "output_type": "execute_result"
    }
   ],
   "source": [
    "# Data Loading & Familiarization\n",
    "\n",
    "import pandas as pd\n",
    "df = pd.read_csv(\"/home/knoldus/Downloads/iris.csv\")\n",
    "df.head()\n",
    "\n",
    "def describe_dataset(dataframe):\n",
    "    \"\"\"Pure function that returns a summary of the dataset.\"\"\"\n",
    "    return {\n",
    "        \"rows\": dataframe.shape[0],\n",
    "        \"columns\": dataframe.shape[1],\n",
    "        \"column_names\": list(dataframe.columns),\n",
    "        \"data_types\": dataframe.dtypes.to_dict(),\n",
    "        \"null_counts\": dataframe.isnull().sum().to_dict()\n",
    "    }\n",
    "\n",
    "describe_dataset(df)"
   ]
  },
  {
   "cell_type": "code",
   "execution_count": 6,
   "id": "8452ae92-b81e-42c7-91b4-daff0debcbcb",
   "metadata": {},
   "outputs": [
    {
     "name": "stdout",
     "output_type": "stream",
     "text": [
      "     sepal_length  sepal_width  petal_length  petal_width    species\n",
      "0             5.1          3.5           1.4          0.2     setosa\n",
      "1             4.9          3.0           1.4          0.2     setosa\n",
      "2             4.7          3.2           1.3          0.2     setosa\n",
      "3             4.6          3.1           1.5          0.2     setosa\n",
      "4             5.0          3.6           1.4          0.2     setosa\n",
      "..            ...          ...           ...          ...        ...\n",
      "145           6.7          3.0           5.2          2.3  virginica\n",
      "146           6.3          2.5           5.0          1.9  virginica\n",
      "147           6.5          3.0           5.2          2.0  virginica\n",
      "148           6.2          3.4           5.4          2.3  virginica\n",
      "149           5.9          3.0           5.1          1.8  virginica\n",
      "\n",
      "[150 rows x 5 columns]\n"
     ]
    }
   ],
   "source": [
    "# Functional Cleaning & Preprocessing\n",
    "\n",
    "def is_valid_row(row):\n",
    "    return not any(pd.isnull(row))\n",
    "\n",
    "filtered_data = list(filter(is_valid_row, df.values.tolist()))\n",
    "\n",
    "def normalize_column(col):\n",
    "    return list(map(lambda x: str(x).strip().lower() if isinstance(x, str) else x, col))\n",
    "\n",
    "normalized_columns = {\n",
    "    col: normalize_column(df[col]) for col in df.columns\n",
    "}\n",
    "\n",
    "cleaned_df = pd.DataFrame(normalized_columns)\n",
    "print(cleaned_df)\n"
   ]
  },
  {
   "cell_type": "code",
   "execution_count": 12,
   "id": "449e3c6b-f82e-4b81-9ce1-4412decfcb83",
   "metadata": {},
   "outputs": [
    {
     "name": "stdout",
     "output_type": "stream",
     "text": [
      "    sepal_length  sepal_width  petal_length  petal_width species\n",
      "0            5.1          3.5           1.4          0.2  setosa\n",
      "1            4.9          3.0           1.4          0.2  setosa\n",
      "2            4.7          3.2           1.3          0.2  setosa\n",
      "3            4.6          3.1           1.5          0.2  setosa\n",
      "4            5.0          3.6           1.4          0.2  setosa\n",
      "5            5.4          3.9           1.7          0.4  setosa\n",
      "6            4.6          3.4           1.4          0.3  setosa\n",
      "7            5.0          3.4           1.5          0.2  setosa\n",
      "8            4.4          2.9           1.4          0.2  setosa\n",
      "9            4.9          3.1           1.5          0.1  setosa\n",
      "10           5.4          3.7           1.5          0.2  setosa\n",
      "11           4.8          3.4           1.6          0.2  setosa\n",
      "12           4.8          3.0           1.4          0.1  setosa\n",
      "13           4.3          3.0           1.1          0.1  setosa\n",
      "14           5.8          4.0           1.2          0.2  setosa\n",
      "15           5.7          4.4           1.5          0.4  setosa\n",
      "16           5.4          3.9           1.3          0.4  setosa\n",
      "17           5.1          3.5           1.4          0.3  setosa\n",
      "18           5.7          3.8           1.7          0.3  setosa\n",
      "19           5.1          3.8           1.5          0.3  setosa\n",
      "20           5.4          3.4           1.7          0.2  setosa\n",
      "21           5.1          3.7           1.5          0.4  setosa\n",
      "22           4.6          3.6           1.0          0.2  setosa\n",
      "23           5.1          3.3           1.7          0.5  setosa\n",
      "24           4.8          3.4           1.9          0.2  setosa\n",
      "25           5.0          3.0           1.6          0.2  setosa\n",
      "26           5.0          3.4           1.6          0.4  setosa\n",
      "27           5.2          3.5           1.5          0.2  setosa\n",
      "28           5.2          3.4           1.4          0.2  setosa\n",
      "29           4.7          3.2           1.6          0.2  setosa\n",
      "30           4.8          3.1           1.6          0.2  setosa\n",
      "31           5.4          3.4           1.5          0.4  setosa\n",
      "32           5.2          4.1           1.5          0.1  setosa\n",
      "33           5.5          4.2           1.4          0.2  setosa\n",
      "34           4.9          3.1           1.5          0.1  setosa\n",
      "35           5.0          3.2           1.2          0.2  setosa\n",
      "36           5.5          3.5           1.3          0.2  setosa\n",
      "37           4.9          3.1           1.5          0.1  setosa\n",
      "38           4.4          3.0           1.3          0.2  setosa\n",
      "39           5.1          3.4           1.5          0.2  setosa\n",
      "40           5.0          3.5           1.3          0.3  setosa\n",
      "41           4.5          2.3           1.3          0.3  setosa\n",
      "42           4.4          3.2           1.3          0.2  setosa\n",
      "43           5.0          3.5           1.6          0.6  setosa\n",
      "44           5.1          3.8           1.9          0.4  setosa\n",
      "45           4.8          3.0           1.4          0.3  setosa\n",
      "46           5.1          3.8           1.6          0.2  setosa\n",
      "47           4.6          3.2           1.4          0.2  setosa\n",
      "48           5.3          3.7           1.5          0.2  setosa\n",
      "49           5.0          3.3           1.4          0.2  setosa\n"
     ]
    }
   ],
   "source": [
    "# Code Refactoring with FP Principles\n",
    "\n",
    "data = df.to_dict(orient='records')\n",
    "# Procedural approach\n",
    "setosa_data = []\n",
    "for row in data:\n",
    "    if row['species'] == 'setosa':\n",
    "        setosa_data.append(row)\n",
    "\n",
    "# Functional approach\n",
    "setosa_data = list(filter(lambda row: row['species'] == 'setosa', data))\n",
    "setosa_df = pd.DataFrame(setosa_data)\n",
    "print(setosa_df)\n"
   ]
  }
 ],
 "metadata": {
  "kernelspec": {
   "display_name": "Python 3 (ipykernel)",
   "language": "python",
   "name": "python3"
  },
  "language_info": {
   "codemirror_mode": {
    "name": "ipython",
    "version": 3
   },
   "file_extension": ".py",
   "mimetype": "text/x-python",
   "name": "python",
   "nbconvert_exporter": "python",
   "pygments_lexer": "ipython3",
   "version": "3.8.10"
  }
 },
 "nbformat": 4,
 "nbformat_minor": 5
}
